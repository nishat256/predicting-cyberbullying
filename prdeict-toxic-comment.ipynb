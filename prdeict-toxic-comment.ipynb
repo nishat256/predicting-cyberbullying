{
 "cells": [
  {
   "cell_type": "code",
   "execution_count": 5,
   "metadata": {},
   "outputs": [
    {
     "name": "stdout",
     "output_type": "stream",
     "text": [
      "['toxic', 'insult']\n"
     ]
    }
   ],
   "source": [
    "import pickle\n",
    "import numpy as np\n",
    "from keras.models import load_model\n",
    "from tensorflow.keras import backend \n",
    "from keras.preprocessing.text import Tokenizer\n",
    "from keras.preprocessing.sequence import pad_sequences\n",
    "\n",
    "# loading tokenizer\n",
    "with open('model/tokenizer.pickle', 'rb') as handle:\n",
    "    tokenizer = pickle.load(handle)\n",
    "# loading model\n",
    "model = load_model('model/model_weights.hdf5')\n",
    "\n",
    "def predict_output(input_text):\n",
    "    sequence = tokenizer.texts_to_sequences([input_text])\n",
    "    padded_sequence = pad_sequences(sequence,maxlen=100)\n",
    "    prediction = model.predict(padded_sequence)\n",
    "    resp =  process_prediction(prediction)\n",
    "    return resp\n",
    "\n",
    "def process_prediction(input_array):\n",
    "    indices = np.nonzero(input_array[0] > .5)\n",
    "    labels = ['toxic','severe_toxic','obscene','threat','insult','identity_hate']\n",
    "    output_labels = []\n",
    "    for index in indices[0]:\n",
    "        output_labels.append(labels[index])\n",
    "    return output_labels\n",
    "\n",
    "\n",
    "if __name__ == \"__main__\":\n",
    "\tinput_text = \"you are looking very fat ugly like a cow\"\n",
    "\tprint(predict_output(input_text))"
   ]
  },
  {
   "cell_type": "code",
   "execution_count": 9,
   "metadata": {},
   "outputs": [
    {
     "name": "stdout",
     "output_type": "stream",
     "text": [
      "['toxic', 'insult']\n",
      "Wall time: 18 ms\n"
     ]
    }
   ],
   "source": [
    "%%time\n",
    "input_text = \"you are looking very fat ugly like a cow\"\n",
    "print(predict_output(input_text))"
   ]
  },
  {
   "cell_type": "code",
   "execution_count": null,
   "metadata": {},
   "outputs": [],
   "source": []
  }
 ],
 "metadata": {
  "kernelspec": {
   "display_name": "Python 3",
   "language": "python",
   "name": "python3"
  },
  "language_info": {
   "codemirror_mode": {
    "name": "ipython",
    "version": 3
   },
   "file_extension": ".py",
   "mimetype": "text/x-python",
   "name": "python",
   "nbconvert_exporter": "python",
   "pygments_lexer": "ipython3",
   "version": "3.5.4"
  }
 },
 "nbformat": 4,
 "nbformat_minor": 4
}
